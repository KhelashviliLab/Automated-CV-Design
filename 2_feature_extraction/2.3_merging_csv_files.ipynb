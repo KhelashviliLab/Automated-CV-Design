{
 "cells": [
  {
   "cell_type": "code",
   "execution_count": 1,
   "id": "44fbb260-148f-40a7-aec2-f6562bc54b28",
   "metadata": {},
   "outputs": [],
   "source": [
    "##### This Jupyter notebook merges csv files using pandas dataframe \n",
    "##### Author: MR (Latest Update: May 28, 2024) "
   ]
  },
  {
   "cell_type": "code",
   "execution_count": 6,
   "id": "fdb21119-a281-46ba-b22a-47170bcaab34",
   "metadata": {},
   "outputs": [],
   "source": [
    "import pandas as pd"
   ]
  },
  {
   "cell_type": "code",
   "execution_count": 19,
   "id": "3aa19e4e-2a66-4679-ac34-92d86e510c7d",
   "metadata": {},
   "outputs": [],
   "source": [
    "def Merge_CSV(files, output):\n",
    "    data = []\n",
    "    for file in files:\n",
    "        data.append(pd.read_csv(file))\n",
    "    # Concatenate the dataframes vertically\n",
    "    merge = pd.concat(data, axis=0)\n",
    "    # Save the concatenated dataframe to the output file\n",
    "    merge.to_csv(output, sep=',', index=False)\n",
    "\n",
    "# List of specific CSV files to be combined\n",
    "file_names = [\n",
    "    'output_coords_sample_OFS_CA.csv',\n",
    "    'output_coords_sample_OcS_CA.csv',\n",
    "    'output_coords_sample_IFS_CA.csv'\n",
    "]\n",
    "\n",
    "# Merge the listed files into a single combined_output.csv\n",
    "Merge_CSV(file_names, 'sample_CA_coords.csv')"
   ]
  }
 ],
 "metadata": {
  "kernelspec": {
   "display_name": "OLCF-base (ipykernel)",
   "language": "python",
   "name": "python3"
  },
  "language_info": {
   "codemirror_mode": {
    "name": "ipython",
    "version": 3
   },
   "file_extension": ".py",
   "mimetype": "text/x-python",
   "name": "python",
   "nbconvert_exporter": "python",
   "pygments_lexer": "ipython3",
   "version": "3.11.7"
  }
 },
 "nbformat": 4,
 "nbformat_minor": 5
}
