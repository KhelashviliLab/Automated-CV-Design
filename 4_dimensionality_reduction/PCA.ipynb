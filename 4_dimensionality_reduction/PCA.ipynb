{
 "cells": [
  {
   "cell_type": "code",
   "execution_count": 1,
   "metadata": {},
   "outputs": [],
   "source": [
    "##### This Jupyter notebook generates PCA CVs. \n",
    "##### Please ensure you have properly set up the conda environment with all libraries.\n",
    "##### In this notebook, since the total number of features is 2, the number of the final CVs is set to 1.\n",
    "\n",
    "##### Author: MO (latest update: May 28, 2024)"
   ]
  },
  {
   "cell_type": "code",
   "execution_count": 2,
   "metadata": {},
   "outputs": [],
   "source": [
    "##### User Inputs ####\n",
    "nDataPoints = 754 # Number of data points in each class (*note: each class should have the same number of data points)\n",
    "num_eigenvector = 2 # Number of eigenvectors or CVs (reduced dimensionality)\n",
    "descriptor_list = ['res159.439', 'res245.369', 'res64.137', 'res199.471', 'res78.450', 'res242.340', 'res77.293'] # List of feature names"
   ]
  },
  {
   "cell_type": "code",
   "execution_count": 3,
   "metadata": {},
   "outputs": [],
   "source": [
    "### STEP 0. Import libraries\n",
    "import pandas as pd\n",
    "import numpy as np\n",
    "from sklearn.decomposition import PCA"
   ]
  },
  {
   "cell_type": "code",
   "execution_count": 4,
   "metadata": {},
   "outputs": [],
   "source": [
    "### STEP 1. Load input data\n",
    "df = pd.read_csv('mpso.csv')"
   ]
  },
  {
   "cell_type": "code",
   "execution_count": 5,
   "metadata": {},
   "outputs": [
    {
     "name": "stdout",
     "output_type": "stream",
     "text": [
      "Mean for  res159.439 :  21.74415728372237\n",
      "Mean for  res245.369 :  38.09927344891246\n",
      "Mean for  res64.137 :  16.775558394920427\n",
      "Mean for  res199.471 :  30.131755684036246\n",
      "Mean for  res78.450 :  13.889633035910256\n",
      "Mean for  res242.340 :  26.819251453872678\n",
      "Mean for  res77.293 :  40.03164760639258\n"
     ]
    }
   ],
   "source": [
    "### STEP 1. Zero-mean the data\n",
    "np.set_printoptions(precision=8)\n",
    "for elem in descriptor_list:\n",
    "    print('Mean for ', elem, ': ', df[elem].mean())\n",
    "    df[elem] = df[elem] - df[elem].mean()"
   ]
  },
  {
   "cell_type": "code",
   "execution_count": 6,
   "metadata": {},
   "outputs": [
    {
     "name": "stdout",
     "output_type": "stream",
     "text": [
      "[[-0.76525385  2.08614583  1.03468783 ...  0.23212689  1.08992405\n",
      "   0.75515021]\n",
      " [-1.47115657  2.44363145  0.69819475 ...  2.78658885  1.9426788\n",
      "   2.18380523]\n",
      " [-2.18411414  2.18471138 -0.08038096 ...  1.60488209  1.93621906\n",
      "   1.18560777]\n",
      " ...\n",
      " [ 2.30423513 -2.98455501  2.50959053 ... -3.00694806 -2.71507559\n",
      "  -1.41571489]\n",
      " [ 3.33669351 -3.31498275  2.7419514  ... -3.27287224 -3.22628615\n",
      "  -1.51252031]\n",
      " [ 1.98100839 -3.30819255  2.2219749  ... -2.74602217 -3.0444609\n",
      "  -1.75634772]]\n"
     ]
    }
   ],
   "source": [
    "### STEP 2. Separate data and generate labels\n",
    "X = df.iloc[:,:len(descriptor_list)].values\n",
    "X = X.astype(np.float64)\n",
    "y = np.concatenate([np.zeros(nDataPoints),np.ones(nDataPoints),np.ones(nDataPoints)+1])\n",
    "print(X)"
   ]
  },
  {
   "cell_type": "code",
   "execution_count": 7,
   "metadata": {},
   "outputs": [
    {
     "name": "stdout",
     "output_type": "stream",
     "text": [
      "Shape before PCA:  (2262, 7)\n",
      "Shape after PCA:  (2262, 2)\n"
     ]
    }
   ],
   "source": [
    "### STEP 3. Perform PCA\n",
    "pca = PCA(n_components=num_eigenvector)\n",
    "pca_X = pca.fit_transform(X)\n",
    "print('Shape before PCA: ', X.shape)\n",
    "print('Shape after PCA: ', pca_X.shape)\n",
    "\n",
    "pca_df = pd.DataFrame(data=pca_X, columns=['PC1', 'PC2'])\n",
    "pca_df['class'] = y\n",
    "pca_df.to_csv('PCA.csv', index=False)"
   ]
  },
  {
   "cell_type": "code",
   "execution_count": 8,
   "metadata": {},
   "outputs": [
    {
     "name": "stdout",
     "output_type": "stream",
     "text": [
      "Variances: [24.80599747  6.69131804]\n",
      "Variance ratios: [0.7148015  0.19281483]\n",
      "CVs: [[-0.22499166  0.46269551 -0.3671284   0.32273212  0.52853859  0.27737808\n",
      "   0.37424683]\n",
      " [ 0.16315402  0.03483583  0.74273121  0.38133827  0.43384173  0.13819161\n",
      "  -0.26035195]]\n"
     ]
    }
   ],
   "source": [
    "### STEP 4. Calculate variances (eigenvalues) and CVs (eigenvectors)\n",
    "print('Variances:', pca.explained_variance_)\n",
    "print('Variance ratios:', pca.explained_variance_ratio_)\n",
    "print('CVs:', pca.components_)"
   ]
  },
  {
   "cell_type": "code",
   "execution_count": null,
   "metadata": {},
   "outputs": [],
   "source": []
  }
 ],
 "metadata": {
  "kernelspec": {
   "display_name": "Python 3 (ipykernel)",
   "language": "python",
   "name": "python3"
  },
  "language_info": {
   "codemirror_mode": {
    "name": "ipython",
    "version": 3
   },
   "file_extension": ".py",
   "mimetype": "text/x-python",
   "name": "python",
   "nbconvert_exporter": "python",
   "pygments_lexer": "ipython3",
   "version": "3.11.4"
  }
 },
 "nbformat": 4,
 "nbformat_minor": 4
}
