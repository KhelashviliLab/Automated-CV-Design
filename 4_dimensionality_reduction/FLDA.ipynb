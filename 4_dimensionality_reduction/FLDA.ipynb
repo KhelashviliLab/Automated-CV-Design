{
 "cells": [
  {
   "cell_type": "code",
   "execution_count": 1,
   "id": "56ce0186-cd94-4ca9-9e54-18d87181e438",
   "metadata": {},
   "outputs": [],
   "source": [
    "##### This Jupyter notebook generates FLDA CVs. \n",
    "##### Please ensure you have properly set up the conda environment with all libraries.\n",
    "##### Please note that this code could be simplified using the scikit-learn library. However, it was written from scratch.\n",
    "\n",
    "##### Author: MO (latest update: May 28, 2024)"
   ]
  },
  {
   "cell_type": "code",
   "execution_count": 2,
   "id": "1cdb9cf2-2322-44ed-8966-84f550b52a25",
   "metadata": {},
   "outputs": [],
   "source": [
    "##### User Inputs #####\n",
    "nDataPoints = 754 # Number of data points in each class (*note: each class should have the same number of data points)\n",
    "num_class = 3 # Number of classes\n",
    "num_descriptor = 7 # Number of descriptors or features\n",
    "num_eigenvector = 2 # Number of eigenvectors or CVs (reduced dimensionality)\n",
    "descriptor_list = ['res159.439', 'res245.369', 'res64.137', 'res199.471', 'res78.450', 'res242.340', 'res77.293'] # List of feature names"
   ]
  },
  {
   "cell_type": "code",
   "execution_count": 3,
   "id": "8dbc58fa-eed1-40c3-b496-6f7bd74a59fa",
   "metadata": {},
   "outputs": [],
   "source": [
    "### STEP 0. Import libraries\n",
    "import pandas as pd\n",
    "import numpy as np"
   ]
  },
  {
   "cell_type": "code",
   "execution_count": 4,
   "id": "b150c90b",
   "metadata": {},
   "outputs": [],
   "source": [
    "### STEP 1. Load input data\n",
    "df = pd.read_csv('mpso.csv')"
   ]
  },
  {
   "cell_type": "code",
   "execution_count": 5,
   "id": "c200eecb",
   "metadata": {},
   "outputs": [
    {
     "name": "stdout",
     "output_type": "stream",
     "text": [
      "Mean for  res159.439 :  21.74415728372237\n",
      "Mean for  res245.369 :  38.09927344891246\n",
      "Mean for  res64.137 :  16.775558394920427\n",
      "Mean for  res199.471 :  30.131755684036246\n",
      "Mean for  res78.450 :  13.889633035910256\n",
      "Mean for  res242.340 :  26.819251453872678\n",
      "Mean for  res77.293 :  40.03164760639258\n"
     ]
    }
   ],
   "source": [
    "### STEP 2. Zero-mean the data\n",
    "np.set_printoptions(precision=8)\n",
    "for elem in descriptor_list:\n",
    "    print('Mean for ', elem, ': ', df[elem].mean())\n",
    "    df[elem] = df[elem] - df[elem].mean()"
   ]
  },
  {
   "cell_type": "code",
   "execution_count": 6,
   "id": "fd206555",
   "metadata": {},
   "outputs": [
    {
     "name": "stdout",
     "output_type": "stream",
     "text": [
      "[[-0.76525385  2.08614583  1.03468783 ...  0.23212689  1.08992405\n",
      "   0.75515021]\n",
      " [-1.47115657  2.44363145  0.69819475 ...  2.78658885  1.9426788\n",
      "   2.18380523]\n",
      " [-2.18411414  2.18471138 -0.08038096 ...  1.60488209  1.93621906\n",
      "   1.18560777]\n",
      " ...\n",
      " [ 2.30423513 -2.98455501  2.50959053 ... -3.00694806 -2.71507559\n",
      "  -1.41571489]\n",
      " [ 3.33669351 -3.31498275  2.7419514  ... -3.27287224 -3.22628615\n",
      "  -1.51252031]\n",
      " [ 1.98100839 -3.30819255  2.2219749  ... -2.74602217 -3.0444609\n",
      "  -1.75634772]]\n",
      "[1. 1. 1. ... 3. 3. 3.]\n"
     ]
    }
   ],
   "source": [
    "### STEP 3. Separate data and generate labels\n",
    "X = df.iloc[:,:num_descriptor].values\n",
    "X = X.astype(np.float64)\n",
    "y = np.concatenate([np.zeros(nDataPoints)+1,np.ones(nDataPoints)+1,np.ones(nDataPoints)+2])\n",
    "print(X)\n",
    "print(y)"
   ]
  },
  {
   "cell_type": "code",
   "execution_count": 7,
   "id": "b7fa9076",
   "metadata": {},
   "outputs": [
    {
     "name": "stdout",
     "output_type": "stream",
     "text": [
      "Mean Vector class 1: [-0.522   1.7285  0.7063  2.3102  3.008   1.4236  0.4796]\n",
      "Mean Vector class 2: [-1.0786  1.446  -3.2836 -0.1895  0.5859  0.4779  2.1154]\n",
      "Mean Vector class 3: [ 1.6007 -3.1745  2.5773 -2.1207 -3.5939 -1.9015 -2.595 ]\n"
     ]
    }
   ],
   "source": [
    "### STEP 4. Compute the d-dimensional mean vectors\n",
    "### Here, we calculate #num_class column vectors, each of which contains #num_descriptor elements (means)\n",
    "np.set_printoptions(precision=4)\n",
    "mean_vectors = []\n",
    "for cl in range(1, num_class+1):\n",
    "    mean_vectors.append(np.mean(X[y==cl], axis=0)) \n",
    "    print(f'Mean Vector class {cl}: {mean_vectors[cl-1]}')"
   ]
  },
  {
   "cell_type": "code",
   "execution_count": 8,
   "id": "26bc3d9a",
   "metadata": {},
   "outputs": [
    {
     "name": "stdout",
     "output_type": "stream",
     "text": [
      "within-class Scatter Matrix:\n",
      " [[1740.0633 -144.7306  513.0246  -61.5244 1005.4498 -216.4135 -178.9632]\n",
      " [-144.7306 1170.8592 -184.3044  692.1579  394.8336  492.9423  236.9878]\n",
      " [ 513.0246 -184.3044 2951.7439 -150.3187  535.1183  100.5744    8.8308]\n",
      " [ -61.5244  692.1579 -150.3187 1968.6852  276.1215  338.1028  337.5499]\n",
      " [1005.4498  394.8336  535.1183  276.1215 2890.0727  108.4058  291.0696]\n",
      " [-216.4135  492.9423  100.5744  338.1028  108.4058  905.9528  139.249 ]\n",
      " [-178.9632  236.9878    8.8308  337.5499  291.0696  139.249  1566.1371]]\n"
     ]
    }
   ],
   "source": [
    "### STEP 5. Compute the scatter matrices\n",
    "### 5-1. Within-class scatter matrix SW\n",
    "S_W = np.zeros((num_descriptor,num_descriptor))\n",
    "for cl, mv in zip(range(1, num_class+1), mean_vectors):\n",
    "    class_sc_mat = np.zeros((num_descriptor,num_descriptor))\n",
    "    for row in X[y==cl]:\n",
    "        row, mv = row.reshape(num_descriptor,1), mv.reshape(num_descriptor,1)\n",
    "        class_sc_mat += (row-mv).dot((row-mv).T)\n",
    "    S_W += class_sc_mat  \n",
    "\n",
    "print('within-class Scatter Matrix:\\n', S_W)"
   ]
  },
  {
   "cell_type": "code",
   "execution_count": 9,
   "id": "285f8fcd",
   "metadata": {},
   "outputs": [
    {
     "name": "stdout",
     "output_type": "stream",
     "text": [
      "between-class Scatter Matrix:\n",
      " [[  3014.6095  -5687.7397   5503.1252  -3314.7076  -5997.9838  -3244.0209\n",
      "   -5041.2023]\n",
      " [ -5687.7397  11427.8272  -8828.4601   7880.4565  13161.463    6927.9563\n",
      "    9142.848 ]\n",
      " [  5503.1252  -8828.4601  13514.3623  -2421.6046  -6832.5517  -4120.3529\n",
      "  -10024.9322]\n",
      " [ -3314.7076   7880.4565  -2421.6046   7442.3423  10902.6679   5452.0663\n",
      "    4682.6165]\n",
      " [ -5997.9838  13161.463   -6832.5517  10902.6679  16819.8248   8592.6645\n",
      "    9054.2095]\n",
      " [ -3244.0209   6927.9563  -4120.3529   5452.0663   8592.6645   4426.6344\n",
      "    4997.7325]\n",
      " [ -5041.2023   9142.848  -10024.9322   4682.6165   9054.2095   4997.7325\n",
      "    8625.1312]]\n"
     ]
    }
   ],
   "source": [
    "### 5-2. Between-class scatter matrix SB\n",
    "overall_mean = np.mean(X, axis=0) \n",
    "S_B = np.zeros((num_descriptor,num_descriptor))\n",
    "for i, mean_vec in enumerate(mean_vectors):\n",
    "    n = X[y==i+1,:].shape[0]\n",
    "    mean_vec = mean_vec.reshape(num_descriptor,1)\n",
    "    overall_mean = overall_mean.reshape(num_descriptor,1)\n",
    "    S_B += n*(mean_vec-overall_mean).dot((mean_vec-overall_mean).T)\n",
    "\n",
    "print('between-class Scatter Matrix:\\n', S_B)"
   ]
  },
  {
   "cell_type": "code",
   "execution_count": 12,
   "id": "eeec3b5f",
   "metadata": {},
   "outputs": [
    {
     "name": "stdout",
     "output_type": "stream",
     "text": [
      "\n",
      "Eigenvector 1: \n",
      "[[-0.42  ]\n",
      " [ 0.4925]\n",
      " [-0.3204]\n",
      " [-0.028 ]\n",
      " [ 0.522 ]\n",
      " [ 0.2858]\n",
      " [ 0.3515]]\n",
      "Eigenvalue 1: 2.05e+01\n",
      "\n",
      "Eigenvector 2: \n",
      "[[ 0.9602]\n",
      " [ 0.158 ]\n",
      " [-0.1247]\n",
      " [-0.0611]\n",
      " [ 0.1056]\n",
      " [ 0.0504]\n",
      " [ 0.1419]]\n",
      "Eigenvalue 2: -2.46e-15\n",
      "\n",
      "Eigenvector 3: \n",
      "[[-0.2525]\n",
      " [-0.2693]\n",
      " [ 0.396 ]\n",
      " [ 0.5397]\n",
      " [ 0.3364]\n",
      " [ 0.2591]\n",
      " [-0.485 ]]\n",
      "Eigenvalue 3: 5.40e+00\n",
      "\n",
      "Eigenvector 4: \n",
      "[[ 0.4855]\n",
      " [ 0.6127]\n",
      " [ 0.0465]\n",
      " [-0.2731]\n",
      " [-0.1957]\n",
      " [ 0.3151]\n",
      " [-0.1406]]\n",
      "Eigenvalue 4: 4.39e-17\n",
      "\n",
      "Eigenvector 5: \n",
      "[[ 0.4855]\n",
      " [ 0.6127]\n",
      " [ 0.0465]\n",
      " [-0.2731]\n",
      " [-0.1957]\n",
      " [ 0.3151]\n",
      " [-0.1406]]\n",
      "Eigenvalue 5: 4.39e-17\n",
      "\n",
      "Eigenvector 6: \n",
      "[[ 0.1132]\n",
      " [ 0.0341]\n",
      " [-0.2866]\n",
      " [ 0.628 ]\n",
      " [-0.5422]\n",
      " [ 0.3653]\n",
      " [-0.2866]]\n",
      "Eigenvalue 6: -2.94e-16\n",
      "\n",
      "Eigenvector 7: \n",
      "[[ 0.5514]\n",
      " [ 0.4051]\n",
      " [-0.0499]\n",
      " [-0.08  ]\n",
      " [-0.3396]\n",
      " [ 0.6255]\n",
      " [-0.1276]]\n",
      "Eigenvalue 7: 5.93e-17\n",
      "Good!\n"
     ]
    }
   ],
   "source": [
    "### STEP 6. Solve the generalized eigenvalue problem for the matrix SW^-1.SB\n",
    "eig_vals, eig_vecs = np.linalg.eig(np.linalg.inv(S_W).dot(S_B))\n",
    "for i in range(len(eig_vals)):\n",
    "    eigvec_sc = eig_vecs[:,i].reshape(num_descriptor,1)\n",
    "    print(f'\\nEigenvector {i+1}: \\n{eigvec_sc.real}')\n",
    "    print(f'Eigenvalue {i+1}: {eig_vals[i].real:.2e}')\n",
    "\n",
    "for i in range(len(eig_vals)): # Check the eigenvector-eigenvalue calculation\n",
    "    eigv = eig_vecs[:,i].reshape(num_descriptor,1)\n",
    "    np.testing.assert_array_almost_equal(np.linalg.inv(S_W).dot(S_B).dot(eigv), eig_vals[i] * eigv, decimal=3, err_msg='', verbose=True)\n",
    "print('Good!')"
   ]
  },
  {
   "cell_type": "code",
   "execution_count": 13,
   "id": "dcd8a7f3",
   "metadata": {},
   "outputs": [
    {
     "name": "stdout",
     "output_type": "stream",
     "text": [
      "Eigenvalues in decreasing order:\n",
      "\n",
      "20.488865937510138\n",
      "5.397305314980233\n",
      "2.460044647123976e-15\n",
      "7.602574054109184e-16\n",
      "7.602574054109184e-16\n",
      "2.936270329955646e-16\n",
      "5.926141028976611e-17\n",
      "Variance explained:\n",
      "\n",
      "eigenvalue 1: 79.15%\n",
      "eigenvalue 2: 20.85%\n",
      "eigenvalue 3: 0.00%\n",
      "eigenvalue 4: 0.00%\n",
      "eigenvalue 5: 0.00%\n",
      "eigenvalue 6: 0.00%\n",
      "eigenvalue 7: 0.00%\n",
      "Matrix W:\n",
      " [[-0.42   -0.2525]\n",
      " [ 0.4925 -0.2693]\n",
      " [-0.3204  0.396 ]\n",
      " [-0.028   0.5397]\n",
      " [ 0.522   0.3364]\n",
      " [ 0.2858  0.2591]\n",
      " [ 0.3515 -0.485 ]]\n"
     ]
    }
   ],
   "source": [
    "### STEP 7. Select linear discriminants for the new feature subspace\n",
    "### 7-1. Sort the eigenvectors by decreasing eigenvalues\n",
    "eig_pairs = [(np.abs(eig_vals[i]), eig_vecs[:,i]) for i in range(len(eig_vals))]\n",
    "eig_pairs = sorted(eig_pairs, key=lambda k: k[0], reverse=True)\n",
    "\n",
    "print('Eigenvalues in decreasing order:\\n')\n",
    "for i in eig_pairs:\n",
    "    print(i[0])\n",
    "\n",
    "print('Variance explained:\\n')\n",
    "eigv_sum = sum(eig_vals)\n",
    "for i,j in enumerate(eig_pairs):\n",
    "    print(f'eigenvalue {i+1}: {(j[0]/eigv_sum).real:.2%}')\n",
    "\n",
    "W = np.concatenate([eig_pairs[i][1].reshape(num_descriptor,1) for i in range(num_eigenvector)], axis=1)\n",
    "print('Matrix W:\\n', W.real)\n",
    "\n",
    "### STEP 8. Transform the samples onto the new subspace\n",
    "W = W.real\n",
    "X_lda = X.dot(W)\n",
    "y = np.concatenate([np.zeros(nDataPoints),np.ones(nDataPoints),np.ones(nDataPoints)+1])\n",
    "\n",
    "np.savetxt(\"FLDA.csv\", X_lda, delimiter=\",\", fmt=\"%.6f\", header=\"LD1, LD2\", comments=\"\")\n",
    "df2 = pd.read_csv('FLDA.csv')\n",
    "df2['class'] = y\n",
    "df2.to_csv('FLDA.csv', encoding='utf-8', index=False)"
   ]
  },
  {
   "cell_type": "code",
   "execution_count": null,
   "id": "63cfd903-827c-42a0-a470-2e0d68475afa",
   "metadata": {},
   "outputs": [],
   "source": []
  }
 ],
 "metadata": {
  "kernelspec": {
   "display_name": "Python 3 (ipykernel)",
   "language": "python",
   "name": "python3"
  },
  "language_info": {
   "codemirror_mode": {
    "name": "ipython",
    "version": 3
   },
   "file_extension": ".py",
   "mimetype": "text/x-python",
   "name": "python",
   "nbconvert_exporter": "python",
   "pygments_lexer": "ipython3",
   "version": "3.11.4"
  }
 },
 "nbformat": 4,
 "nbformat_minor": 5
}
